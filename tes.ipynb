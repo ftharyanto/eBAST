{
 "cells": [
  {
   "cell_type": "code",
   "execution_count": 4,
   "metadata": {},
   "outputs": [
    {
     "name": "stdout",
     "output_type": "stream",
     "text": [
      "['ACBM']\n"
     ]
    }
   ],
   "source": [
    "\n",
    "l = \"\"\"ACBM\n",
    "ASLFKJSAD\"\"\"\n",
    "\n",
    "def remove_accelerograph(data):\n",
    "    for item in data:\n",
    "        if item not in ['ACBM']:\n",
    "            data.remove(item)\n",
    "    return data\n",
    "\n",
    "\n",
    "list_s = remove_accelerograph(l.split('\\n'))\n",
    "print(list_s)\n"
   ]
  },
  {
   "cell_type": "code",
   "execution_count": 1,
   "metadata": {},
   "outputs": [
    {
     "name": "stdout",
     "output_type": "stream",
     "text": [
      "Minggu, 1 Oktober 2023\n"
     ]
    }
   ],
   "source": [
    "\n",
    "def format_date_indonesian(d):\n",
    "    from datetime import date\n",
    "    # Define Indonesian names for days and months\n",
    "    days = ['Senin', 'Selasa', 'Rabu', 'Kamis', 'Jumat', 'Sabtu', 'Minggu']\n",
    "    months = ['Januari', 'Februari', 'Maret', 'April', 'Mei', 'Juni', \n",
    "              'Juli', 'Agustus', 'September', 'Oktober', 'November', 'Desember']\n",
    "\n",
    "    # Get the day of the week, day of the month, month, and year from the date\n",
    "    day_of_week = days[d.weekday()]\n",
    "    day = d.day\n",
    "    month = months[d.month - 1]\n",
    "    year = d.year\n",
    "\n",
    "    # Return the formatted date\n",
    "    return f'{day_of_week}, {day} {month} {year}'\n",
    "\n",
    "# Test the function\n",
    "d = date(2023, 10, 1)\n",
    "print(format_date_indonesian(d))\n"
   ]
  },
  {
   "cell_type": "code",
   "execution_count": 3,
   "metadata": {},
   "outputs": [
    {
     "name": "stdout",
     "output_type": "stream",
     "text": [
      "<class 'int'>\n"
     ]
    }
   ],
   "source": [
    "import ast\n",
    "print(type(len(ast.literal_eval('[\"ACBM\"]'))))"
   ]
  }
 ],
 "metadata": {
  "kernelspec": {
   "display_name": "Python 3",
   "language": "python",
   "name": "python3"
  },
  "language_info": {
   "codemirror_mode": {
    "name": "ipython",
    "version": 3
   },
   "file_extension": ".py",
   "mimetype": "text/x-python",
   "name": "python",
   "nbconvert_exporter": "python",
   "pygments_lexer": "ipython3",
   "version": "3.9.13"
  },
  "orig_nbformat": 4
 },
 "nbformat": 4,
 "nbformat_minor": 2
}
