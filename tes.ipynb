{
 "cells": [
  {
   "cell_type": "code",
   "execution_count": 4,
   "metadata": {},
   "outputs": [
    {
     "name": "stdout",
     "output_type": "stream",
     "text": [
      "['ACBM']\n"
     ]
    }
   ],
   "source": [
    "\n",
    "l = \"\"\"ACBM\n",
    "ASLFKJSAD\"\"\"\n",
    "\n",
    "def remove_accelerograph(data):\n",
    "    for item in data:\n",
    "        if item not in ['ACBM']:\n",
    "            data.remove(item)\n",
    "    return data\n",
    "\n",
    "\n",
    "list_s = remove_accelerograph(l.split('\\n'))\n",
    "print(list_s)\n"
   ]
  }
 ],
 "metadata": {
  "kernelspec": {
   "display_name": "Python 3",
   "language": "python",
   "name": "python3"
  },
  "language_info": {
   "codemirror_mode": {
    "name": "ipython",
    "version": 3
   },
   "file_extension": ".py",
   "mimetype": "text/x-python",
   "name": "python",
   "nbconvert_exporter": "python",
   "pygments_lexer": "ipython3",
   "version": "3.9.13"
  },
  "orig_nbformat": 4
 },
 "nbformat": 4,
 "nbformat_minor": 2
}
